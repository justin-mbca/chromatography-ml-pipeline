{
 "cells": [
  {
   "cell_type": "markdown",
   "id": "f0b2a86b",
   "metadata": {},
   "source": [
    "# Remove Specific Company Mentions from README\n",
    "This notebook demonstrates how to programmatically remove all mentions of a specified company from a README file."
   ]
  },
  {
   "cell_type": "code",
   "execution_count": null,
   "id": "dd3a3a06",
   "metadata": {},
   "outputs": [],
   "source": [
    "# Section 1: Read README File\n",
    "readme_path = '../../README.md'\n",
    "with open(readme_path, 'r') as file:\n",
    "    readme_content = file.read()\n",
    "print('Original README loaded. Preview:')\n",
    "print(readme_content[:500])"
   ]
  },
  {
   "cell_type": "code",
   "execution_count": null,
   "id": "6c16f5bf",
   "metadata": {},
   "outputs": [],
   "source": [
    "# Section 2: Remove Specific Company Mentions\n",
    "company_name = 'Waters'\n",
    "cleaned_content = readme_content.replace(company_name, '')\n",
    "print('Company mentions removed. Preview:')\n",
    "print(cleaned_content[:500])"
   ]
  },
  {
   "cell_type": "code",
   "execution_count": null,
   "id": "a518f0fa",
   "metadata": {},
   "outputs": [],
   "source": [
    "# Section 3: Save Cleaned README\n",
    "output_path = '../../README_no_company.md'\n",
    "with open(output_path, 'w') as file:\n",
    "    file.write(cleaned_content)\n",
    "print(f'Cleaned README saved to {output_path}')"
   ]
  }
 ],
 "metadata": {
  "language_info": {
   "name": "python"
  }
 },
 "nbformat": 4,
 "nbformat_minor": 5
}
