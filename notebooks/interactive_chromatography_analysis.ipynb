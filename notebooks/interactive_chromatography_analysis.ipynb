{
 "cells": [
  {
   "cell_type": "markdown",
   "id": "c912a883",
   "metadata": {},
   "source": [
    "# Interactive Chromatography and Mass Spectrometry Data Analysis\n",
    "\n",
    "This notebook demonstrates interactive data analysis for chromatography and mass spectrometry using Python widgets and plots. You will learn how to load data, explore it with widgets, and visualize results interactively."
   ]
  },
  {
   "cell_type": "markdown",
   "id": "faeaaf0a",
   "metadata": {},
   "source": [
    "## 1. Import Required Libraries\n",
    "\n",
    "We will use pandas for data handling, matplotlib for plotting, and ipywidgets for interactivity."
   ]
  },
  {
   "cell_type": "code",
   "execution_count": 2,
   "id": "b09851ec",
   "metadata": {},
   "outputs": [],
   "source": [
    "import pandas as pd\n",
    "import matplotlib.pyplot as plt\n",
    "import ipywidgets as widgets\n",
    "from ipywidgets import interact, interactive, fixed, interact_manual\n",
    "from IPython.display import display"
   ]
  },
  {
   "cell_type": "markdown",
   "id": "c1f34ea1",
   "metadata": {},
   "source": [
    "## 2. Display Interactive Widgets\n",
    "\n",
    "Let's create and display some basic widgets such as sliders, dropdowns, and buttons using ipywidgets."
   ]
  },
  {
   "cell_type": "code",
   "execution_count": 3,
   "id": "c58a3a15",
   "metadata": {},
   "outputs": [
    {
     "data": {
      "application/vnd.jupyter.widget-view+json": {
       "model_id": "a91dfe3ddb2d46b88e4c813964e65dcc",
       "version_major": 2,
       "version_minor": 0
      },
      "text/plain": [
       "IntSlider(value=5, description='Slider:', max=10)"
      ]
     },
     "metadata": {},
     "output_type": "display_data"
    },
    {
     "data": {
      "application/vnd.jupyter.widget-view+json": {
       "model_id": "c9eacd35ac8e463eab021782e4c58202",
       "version_major": 2,
       "version_minor": 0
      },
      "text/plain": [
       "Dropdown(description='Sample:', options=('Sample 1', 'Sample 2', 'Sample 3'), value='Sample 1')"
      ]
     },
     "metadata": {},
     "output_type": "display_data"
    },
    {
     "data": {
      "application/vnd.jupyter.widget-view+json": {
       "model_id": "468852182b004ec29774a2a1fa84c983",
       "version_major": 2,
       "version_minor": 0
      },
      "text/plain": [
       "Button(description='Click Me', style=ButtonStyle())"
      ]
     },
     "metadata": {},
     "output_type": "display_data"
    }
   ],
   "source": [
    "# Slider widget\n",
    "slider = widgets.IntSlider(value=5, min=0, max=10, step=1, description='Slider:')\n",
    "display(slider)\n",
    "\n",
    "# Dropdown widget\n",
    "dropdown = widgets.Dropdown(options=['Sample 1', 'Sample 2', 'Sample 3'], value='Sample 1', description='Sample:')\n",
    "display(dropdown)\n",
    "\n",
    "# Button widget\n",
    "button = widgets.Button(description='Click Me')\n",
    "display(button)"
   ]
  },
  {
   "cell_type": "markdown",
   "id": "6be633e2",
   "metadata": {},
   "source": [
    "## 3. Create Interactive Plots\n",
    "\n",
    "Now, let's link widgets to matplotlib plots for dynamic updates. We'll use interact to update a plot based on widget values."
   ]
  },
  {
   "cell_type": "code",
   "execution_count": 4,
   "id": "d5010ea8",
   "metadata": {},
   "outputs": [
    {
     "data": {
      "application/vnd.jupyter.widget-view+json": {
       "model_id": "2a04fb8acc0f48f3a527a16a23291b19",
       "version_major": 2,
       "version_minor": 0
      },
      "text/plain": [
       "interactive(children=(FloatSlider(value=1.0, description='frequency', max=5.0, min=0.1), Output()), _dom_class…"
      ]
     },
     "metadata": {},
     "output_type": "display_data"
    },
    {
     "data": {
      "text/plain": [
       "<function __main__.plot_sine_wave(frequency)>"
      ]
     },
     "execution_count": 4,
     "metadata": {},
     "output_type": "execute_result"
    }
   ],
   "source": [
    "import numpy as np\n",
    "\n",
    "def plot_sine_wave(frequency):\n",
    "    x = np.linspace(0, 2 * np.pi, 100)\n",
    "    y = np.sin(frequency * x)\n",
    "    plt.figure(figsize=(6, 3))\n",
    "    plt.plot(x, y)\n",
    "    plt.title(f'Sine Wave (frequency={frequency})')\n",
    "    plt.xlabel('x')\n",
    "    plt.ylabel('sin(frequency * x)')\n",
    "    plt.show()\n",
    "\n",
    "interact(plot_sine_wave, frequency=widgets.FloatSlider(value=1, min=0.1, max=5.0, step=0.1))"
   ]
  },
  {
   "cell_type": "markdown",
   "id": "8cf3b91e",
   "metadata": {},
   "source": [
    "## 4. Use Interactive Controls with Functions\n",
    "\n",
    "We can use interact and interactive to create controls for custom Python functions, such as selecting a sample and plotting its chromatogram."
   ]
  },
  {
   "cell_type": "code",
   "execution_count": 5,
   "id": "044dc3d0",
   "metadata": {},
   "outputs": [
    {
     "data": {
      "application/vnd.jupyter.widget-view+json": {
       "model_id": "0c916225b35943f3b38b9fe529778ab9",
       "version_major": 2,
       "version_minor": 0
      },
      "text/plain": [
       "interactive(children=(Dropdown(description='sample', options=('sample_1', 'sample_2', 'sample_3'), value='samp…"
      ]
     },
     "metadata": {},
     "output_type": "display_data"
    },
    {
     "data": {
      "text/plain": [
       "<function __main__.plot_chromatogram(sample)>"
      ]
     },
     "execution_count": 5,
     "metadata": {},
     "output_type": "execute_result"
    }
   ],
   "source": [
    "# Load chromatogram time series data\n",
    "chrom_file = '../data/sample_chromatogram_timeseries.csv'\n",
    "df_chrom = pd.read_csv(chrom_file)\n",
    "sample_names = df_chrom.columns[1:]\n",
    "\n",
    "# Interactive plot for sample selection\n",
    "def plot_chromatogram(sample):\n",
    "    plt.figure(figsize=(6, 3))\n",
    "    plt.plot(df_chrom['retention_time'], df_chrom[sample], marker='o')\n",
    "    plt.title(f'Chromatogram: {sample}')\n",
    "    plt.xlabel('Retention Time')\n",
    "    plt.ylabel('Intensity')\n",
    "    plt.show()\n",
    "\n",
    "interact(plot_chromatogram, sample=sample_names)"
   ]
  },
  {
   "cell_type": "markdown",
   "id": "82d925e9",
   "metadata": {},
   "source": [
    "## 5. Capture Widget Output\n",
    "\n",
    "We can use Output widgets to capture and display output from interactive controls, such as showing summary statistics for the selected sample."
   ]
  },
  {
   "cell_type": "code",
   "execution_count": 6,
   "id": "26bc1ada",
   "metadata": {},
   "outputs": [
    {
     "data": {
      "application/vnd.jupyter.widget-view+json": {
       "model_id": "ba51d5c6365346038316eced85db38b0",
       "version_major": 2,
       "version_minor": 0
      },
      "text/plain": [
       "interactive(children=(Dropdown(description='sample', options=('sample_1', 'sample_2', 'sample_3'), value='samp…"
      ]
     },
     "metadata": {},
     "output_type": "display_data"
    },
    {
     "data": {
      "application/vnd.jupyter.widget-view+json": {
       "model_id": "bd8dfd9a05194f23ad452421d93f39c5",
       "version_major": 2,
       "version_minor": 0
      },
      "text/plain": [
       "Output()"
      ]
     },
     "metadata": {},
     "output_type": "display_data"
    }
   ],
   "source": [
    "output = widgets.Output()\n",
    "\n",
    "@widgets.interact(sample=sample_names)\n",
    "def show_stats(sample):\n",
    "    with output:\n",
    "        output.clear_output()\n",
    "        stats = df_chrom[sample].describe()\n",
    "        display(stats)\n",
    "display(output)"
   ]
  },
  {
   "cell_type": "code",
   "execution_count": null,
   "id": "a33bf093-928b-429a-ba90-3745682e6047",
   "metadata": {},
   "outputs": [],
   "source": []
  },
  {
   "cell_type": "code",
   "execution_count": null,
   "id": "00f9e26c-c886-41b7-99c9-d6107167c20e",
   "metadata": {},
   "outputs": [],
   "source": []
  },
  {
   "cell_type": "code",
   "execution_count": null,
   "id": "e1bfb5e8-eff3-4ffa-86b2-89fd17201f1c",
   "metadata": {},
   "outputs": [],
   "source": []
  }
 ],
 "metadata": {
  "kernelspec": {
   "display_name": "Python 3 (ipykernel)",
   "language": "python",
   "name": "python3"
  },
  "language_info": {
   "codemirror_mode": {
    "name": "ipython",
    "version": 3
   },
   "file_extension": ".py",
   "mimetype": "text/x-python",
   "name": "python",
   "nbconvert_exporter": "python",
   "pygments_lexer": "ipython3",
   "version": "3.10.13"
  }
 },
 "nbformat": 4,
 "nbformat_minor": 5
}
